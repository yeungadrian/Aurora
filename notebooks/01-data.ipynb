{
 "cells": [
  {
   "cell_type": "code",
   "execution_count": null,
   "metadata": {},
   "outputs": [],
   "source": [
    "import httpx\n",
    "import polars as pl"
   ]
  },
  {
   "cell_type": "code",
   "execution_count": null,
   "metadata": {},
   "outputs": [],
   "source": [
    "url = \"https://www.vanguardinvestor.co.uk/api/funds/{}\"\n",
    "\n",
    "vanguard_funds = [\n",
    "    \"vanguard-us-equity-index-fund-gbp-acc\",\n",
    "    \"vanguard-uk-inflation-linked-gilt-index-fund-gbp-acc\",\n",
    "    \"vanguard-ftse-uk-all-share-index-unit-trust-gbp-acc\",\n",
    "    \"vanguard-ftse-100-index-unit-trust-gbp-acc\",\n",
    "    \"vanguard-esg-developed-world-all-cap-equity-index-fund-uk-gbp-acc\",\n",
    "    \"vanguard-ftse-uk-equity-income-index-fund-gbp-acc\",\n",
    "    \"vanguard-ftse-developed-europe-ex-uk-equity-index-fund-gbp-acc\",\n",
    "    \"vanguard-ftse-developed-world-ex-uk-equity-index-fund-gbp-acc\",\n",
    "    \"vanguard-ftse-global-all-cap-index-fund-gbp-acc\",\n",
    "    \"vanguard-uk-long-duration-gilt-index-fund-gbp-acc\",\n",
    "]"
   ]
  },
  {
   "cell_type": "code",
   "execution_count": null,
   "metadata": {},
   "outputs": [],
   "source": [
    "headers = {\n",
    "    \"Host\": \"www.vanguardinvestor.co.uk\",\n",
    "    \"User-Agent\": \"Mozilla/5.0 (X11; Linux x86_64; rv:127.0) Gecko/20100101 Firefox/127.0\",\n",
    "    \"Accept\": \"application/json, text/plain, */*\",\n",
    "    \"Accept-Language\": \"en-GB,en;q=0.5\",\n",
    "    \"Accept-Encoding\": \"gzip, deflate, br, zstd\",\n",
    "    \"DNT\": \"1\",\n",
    "    \"Sec-GPC\": \"1\",\n",
    "    \"Connection\": \"keep-alive\",\n",
    "    \"Referer\": \"https://www.vanguardinvestor.co.uk/investments/vanguard-us-equity-index-fund-gbp-acc/price-performance\",\n",
    "    \"Sec-Fetch-Dest\": \"empty\",\n",
    "    \"Sec-Fetch-Mode\": \"cors\",\n",
    "    \"Sec-Fetch-Site\": \"same-origin\",\n",
    "    \"TE\": \"trailers\",\n",
    "}"
   ]
  },
  {
   "cell_type": "code",
   "execution_count": null,
   "metadata": {},
   "outputs": [],
   "source": [
    "detail_keys = [\n",
    "    \"id\",\n",
    "    \"name\",\n",
    "    \"assetClass\",\n",
    "    \"inceptionDate\",\n",
    "    \"benchmark\",\n",
    "    \"currencyCode\",\n",
    "    \"sedol\",\n",
    "    \"OCF\",\n",
    "]"
   ]
  },
  {
   "cell_type": "code",
   "execution_count": null,
   "metadata": {},
   "outputs": [],
   "source": [
    "fund_details = []\n",
    "fund_returns = []"
   ]
  },
  {
   "cell_type": "code",
   "execution_count": null,
   "metadata": {},
   "outputs": [],
   "source": [
    "with httpx.Client(headers=headers) as client:\n",
    "    for fund in vanguard_funds[0:3]:\n",
    "        r = client.get(url.format(fund))\n",
    "\n",
    "        fund_detail = {key: r.json()[key] for key in detail_keys}\n",
    "        fund_details.append(fund_detail)\n",
    "\n",
    "        fund_return = {fund: r.json()[\"fundData\"][\"annualNAVReturns\"][\"returns\"]}"
   ]
  },
  {
   "cell_type": "code",
   "execution_count": null,
   "metadata": {},
   "outputs": [],
   "source": [
    "pl.from_dicts(fund_details)"
   ]
  }
 ],
 "metadata": {
  "kernelspec": {
   "display_name": "portfoliobuilder-YrXcsxC6-py3.11",
   "language": "python",
   "name": "python3"
  },
  "language_info": {
   "codemirror_mode": {
    "name": "ipython",
    "version": 3
   },
   "file_extension": ".py",
   "mimetype": "text/x-python",
   "name": "python",
   "nbconvert_exporter": "python",
   "pygments_lexer": "ipython3"
  }
 },
 "nbformat": 4,
 "nbformat_minor": 2
}
