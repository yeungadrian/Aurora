{
 "cells": [
  {
   "cell_type": "code",
   "execution_count": null,
   "metadata": {},
   "outputs": [],
   "source": [
    "import time\n",
    "from datetime import datetime\n",
    "\n",
    "import httpx\n",
    "import polars as pl"
   ]
  },
  {
   "cell_type": "code",
   "execution_count": null,
   "metadata": {},
   "outputs": [],
   "source": [
    "url = \"https://www.vanguardinvestor.co.uk/api/funds/{}\"\n",
    "\n",
    "vanguard_funds = [\n",
    "    \"vanguard-us-equity-index-fund-gbp-acc\",\n",
    "    \"vanguard-uk-inflation-linked-gilt-index-fund-gbp-acc\",\n",
    "    \"vanguard-ftse-uk-all-share-index-unit-trust-gbp-acc\",\n",
    "    \"vanguard-ftse-100-index-unit-trust-gbp-acc\",\n",
    "    \"vanguard-esg-developed-world-all-cap-equity-index-fund-uk-gbp-acc\",\n",
    "    \"vanguard-ftse-uk-equity-income-index-fund-gbp-acc\",\n",
    "    \"vanguard-ftse-developed-europe-ex-uk-equity-index-fund-gbp-acc\",\n",
    "    \"vanguard-ftse-developed-world-ex-uk-equity-index-fund-gbp-acc\",\n",
    "    \"vanguard-ftse-global-all-cap-index-fund-gbp-acc\",\n",
    "    \"vanguard-uk-long-duration-gilt-index-fund-gbp-acc\",\n",
    "]"
   ]
  },
  {
   "cell_type": "code",
   "execution_count": null,
   "metadata": {},
   "outputs": [],
   "source": [
    "headers = {\n",
    "    \"Host\": \"www.vanguardinvestor.co.uk\",\n",
    "    \"User-Agent\": \"Mozilla/5.0 (X11; Linux x86_64; rv:127.0) Gecko/20100101 Firefox/127.0\",\n",
    "    \"Accept\": \"application/json, text/plain, */*\",\n",
    "    \"Accept-Language\": \"en-GB,en;q=0.5\",\n",
    "    \"Accept-Encoding\": \"gzip, deflate, br, zstd\",\n",
    "    \"DNT\": \"1\",\n",
    "    \"Sec-GPC\": \"1\",\n",
    "    \"Connection\": \"keep-alive\",\n",
    "    \"Referer\": \"https://www.vanguardinvestor.co.uk/investments/vanguard-us-equity-index-fund-gbp-acc/price-performance\",\n",
    "    \"Sec-Fetch-Dest\": \"empty\",\n",
    "    \"Sec-Fetch-Mode\": \"cors\",\n",
    "    \"Sec-Fetch-Site\": \"same-origin\",\n",
    "    \"TE\": \"trailers\",\n",
    "}"
   ]
  },
  {
   "cell_type": "code",
   "execution_count": null,
   "metadata": {},
   "outputs": [],
   "source": [
    "fields = [\n",
    "    \"id\",\n",
    "    \"name\",\n",
    "    \"assetClass\",\n",
    "    \"inceptionDate\",\n",
    "    \"benchmark\",\n",
    "    \"currencyCode\",\n",
    "    \"sedol\",\n",
    "    \"OCF\",\n",
    "]"
   ]
  },
  {
   "cell_type": "code",
   "execution_count": null,
   "metadata": {},
   "outputs": [],
   "source": [
    "def format_vanguard_returns(_monthly_returns: list[dict], id: str) -> pl.DataFrame:\n",
    "    \"\"\"Format vanguard returns as polars dataframe.\"\"\"\n",
    "    monthly_returns = pl.from_dicts(_monthly_returns)\n",
    "    monthly_returns = monthly_returns.with_columns(pl.lit(id).alias(\"id\"))\n",
    "    monthly_returns = monthly_returns.rename(\n",
    "        {\"asOfDate\": \"date\", \"monthPercent\": \"monthly_return\"}\n",
    "    )\n",
    "    return monthly_returns"
   ]
  },
  {
   "cell_type": "code",
   "execution_count": null,
   "metadata": {},
   "outputs": [],
   "source": [
    "_fund_details = []\n",
    "_fund_returns = []\n",
    "\n",
    "with httpx.Client(headers=headers) as client:\n",
    "    for fund in vanguard_funds:\n",
    "        time.sleep(0.1)\n",
    "\n",
    "        r = client.get(url.format(fund))\n",
    "\n",
    "        fund_detail = {key: r.json()[key] for key in fields}\n",
    "        _fund_details.append(fund_detail)\n",
    "\n",
    "        fund_return = format_vanguard_returns(\n",
    "            r.json()[\"fundData\"][\"annualNAVReturns\"][\"returns\"], fund_detail[\"id\"]\n",
    "        )\n",
    "        _fund_returns.append(fund_return)"
   ]
  },
  {
   "cell_type": "code",
   "execution_count": null,
   "metadata": {},
   "outputs": [],
   "source": [
    "fund_returns = pl.concat(_fund_returns)\n",
    "fund_returns = fund_returns.with_columns(pl.col(\"date\").cast(pl.Date).alias(\"date\"))\n",
    "fund_returns = fund_returns.with_columns(pl.col(\"monthly_return\") / 100.0)"
   ]
  },
  {
   "cell_type": "code",
   "execution_count": null,
   "metadata": {},
   "outputs": [],
   "source": [
    "fund_details = pl.from_dicts(_fund_details)\n",
    "fund_details = fund_details.rename(\n",
    "    {\n",
    "        \"assetClass\": \"asset_class\",\n",
    "        \"inceptionDate\": \"inception_date\",\n",
    "        \"currencyCode\": \"currency_code\",\n",
    "        \"OCF\": \"ocf\",\n",
    "    }\n",
    ")\n",
    "fund_details = fund_details.with_columns(\n",
    "    pl.col(\"inception_date\").str.to_date(\"%d %B %Y\")\n",
    ")"
   ]
  },
  {
   "cell_type": "code",
   "execution_count": null,
   "metadata": {},
   "outputs": [],
   "source": [
    "current_year = datetime.now().year\n",
    "current_month = datetime.now().month\n",
    "\n",
    "date_returns = {\n",
    "    \"returns_ytd\": datetime(current_year, 1, 1),\n",
    "    \"returns_1yr\": datetime(current_year - 1, current_month, 1),\n",
    "    \"returns_3yr\": datetime(current_year - 3, current_month, 1),\n",
    "    \"returns_5yr\": datetime(current_year - 5, current_month, 1),\n",
    "}"
   ]
  },
  {
   "cell_type": "code",
   "execution_count": null,
   "metadata": {},
   "outputs": [],
   "source": [
    "return_summaries = [\n",
    "    (\n",
    "        fund_returns.with_columns(pl.col(\"monthly_return\") + 1.0)\n",
    "        .filter(pl.col(\"date\") > start_date)\n",
    "        .group_by(\"id\")\n",
    "        .agg(pl.col(\"monthly_return\").product().alias(col) - 1.0)\n",
    "    )\n",
    "    for col, start_date in date_returns.items()\n",
    "]"
   ]
  },
  {
   "cell_type": "code",
   "execution_count": null,
   "metadata": {},
   "outputs": [],
   "source": [
    "for i in return_summaries:\n",
    "    fund_details = fund_details.join(i, how=\"left\", on=\"id\", coalesce=True)"
   ]
  },
  {
   "cell_type": "code",
   "execution_count": null,
   "metadata": {},
   "outputs": [],
   "source": [
    "for col, start_date in date_returns.items():\n",
    "    fund_details = fund_details.with_columns(\n",
    "        pl.when(pl.col(\"inception_date\") < start_date)\n",
    "        .then(pl.col(col))\n",
    "        .otherwise(None)\n",
    "        .alias(col)\n",
    "    )"
   ]
  },
  {
   "cell_type": "code",
   "execution_count": null,
   "metadata": {},
   "outputs": [],
   "source": [
    "fund_returns = fund_returns.sort(by=\"date\")"
   ]
  },
  {
   "cell_type": "code",
   "execution_count": null,
   "metadata": {},
   "outputs": [],
   "source": [
    "fund_details.write_parquet(\"../data/processed/fund_details.pq\")\n",
    "fund_returns.write_parquet(\"../data/processed/fund_returns.pq\")"
   ]
  }
 ],
 "metadata": {
  "kernelspec": {
   "display_name": "portfoliobuilder-YrXcsxC6-py3.11",
   "language": "python",
   "name": "python3"
  },
  "language_info": {
   "codemirror_mode": {
    "name": "ipython",
    "version": 3
   },
   "file_extension": ".py",
   "mimetype": "text/x-python",
   "name": "python",
   "nbconvert_exporter": "python",
   "pygments_lexer": "ipython3"
  }
 },
 "nbformat": 4,
 "nbformat_minor": 2
}
